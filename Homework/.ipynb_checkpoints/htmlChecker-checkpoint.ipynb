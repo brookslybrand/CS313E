{
 "cells": [
  {
   "cell_type": "code",
   "execution_count": null,
   "metadata": {
    "collapsed": true
   },
   "outputs": [],
   "source": [
    "#  File: htmlChecker.py\n",
    "#  Description: Parses through an html file (in the form of a .txt file) and makes\n",
    "#               sure all opening tags have closing tags if a closing tag is needed\n",
    "#  Student's Name: Charles Lybrand\n",
    "#  Student's UT EID: cbl652\n",
    "#  Course Name: CS 313E \n",
    "#  Unique Number: 51915\n",
    "#\n",
    "#  Date Created: 02/25/2017\n",
    "#  Date Last Modified: 02/25/2017"
   ]
  },
  {
   "cell_type": "code",
   "execution_count": 65,
   "metadata": {
    "collapsed": true
   },
   "outputs": [],
   "source": [
    "class Stack:\n",
    "    \n",
    "    # initiate the stack with no elements\n",
    "    def __init__(self):\n",
    "        self.items = []\n",
    "        \n",
    "    # check if the stack is empty or not\n",
    "    def isEmpty(self):\n",
    "        return self.items == []\n",
    "    \n",
    "    def size(self):\n",
    "        return len(self.items)\n",
    "    \n",
    "    def push(self, item):\n",
    "        self.items.append(item)\n",
    "        \n",
    "    def pop(self):\n",
    "        return self.items.pop()\n",
    "    \n",
    "    def peek(self):\n",
    "        return self.items[-1]\n",
    "    \n",
    "    def __str__(self):\n",
    "        return str(self.items)\n",
    "        "
   ]
  },
  {
   "cell_type": "code",
   "execution_count": 66,
   "metadata": {
    "collapsed": false
   },
   "outputs": [],
   "source": [
    "def getTags(line):\n",
    "    '''\n",
    "    get all of the tags in a single line and return them in a list\n",
    "    '''\n",
    "   \n",
    "    # list to hold the tags found\n",
    "    tags = []\n",
    "    \n",
    "    # itterate through the line to find all the tags\n",
    "    for i in range(len(line)):\n",
    "        # \"<\" character marks the start of a tag, retrieve the name of the tag\n",
    "        if line[i] == \"<\":\n",
    "            tag = \"\"\n",
    "            i += 1\n",
    "            # continue itterating through the string until you reach the end of\n",
    "            # the tag. This loop assumes that all tags close, the i <= len(line)\n",
    "            # is there only to insure that the code does not fail when it runs out\n",
    "            # of characters\n",
    "            while (line[i] != \">\" and line[i] != \" \") and i <= len(line):\n",
    "                tag += line[i]\n",
    "                i += 1\n",
    "            tags.append(tag)\n",
    "            \n",
    "    # return all the tags found\n",
    "    return tags"
   ]
  },
  {
   "cell_type": "code",
   "execution_count": 134,
   "metadata": {
    "collapsed": false
   },
   "outputs": [],
   "source": [
    "def checkTags(tags):\n",
    "    '''\n",
    "    Iterates through a list of tags (in the order they appeared) and\n",
    "    validates whether or not all of the tags have both an opening and\n",
    "    closing tag\n",
    "    '''\n",
    "    \n",
    "    # these are the known exceptions that do not need a closing tag\n",
    "    exceptions = ['meta', 'br', 'hr']\n",
    "    # validTags will hold the unique tags found\n",
    "    validTags = []\n",
    "    \n",
    "    # create a stack to help with checking\n",
    "    s = Stack()\n",
    "    \n",
    "    # itterate through all the tags\n",
    "    print()\n",
    "    for tag in tags:\n",
    "        \n",
    "        # check if tag is an exception\n",
    "        if tag in exceptions:\n",
    "            print(\"Tag %s does not need to match:  stack is still %s\" % (tag, s))\n",
    "            continue\n",
    "            \n",
    "        # if opening tag, add to stack\n",
    "        if tag[0] != \"/\":\n",
    "            \n",
    "            # if tag is new, let the user know and add to validTags\n",
    "            if tag not in validTags:\n",
    "                validTags.append(tag)\n",
    "                print(\"New tag %s found and added to list of valid tags\" % (tag))\n",
    "            \n",
    "            # add tag to the stack\n",
    "            s.push(tag)\n",
    "            print(\"Tag %s pushed:  stack is now %s\" % (tag, s))\n",
    "                  \n",
    "        \n",
    "            \n",
    "        # if closing tag, check stack\n",
    "        else:\n",
    "            \n",
    "            # if the stack is empty, let the user know and abort\n",
    "            if s.isEmpty():\n",
    "                print(\"Error:  tag is %s but the stack is empty\" % (tag, lastTag))\n",
    "                return\n",
    "                \n",
    "            # pop the last tag, this tag should be equal to the current tag\n",
    "            lastTag = s.pop()\n",
    "            \n",
    "            # if the closing tag matches the last tag, let the user know and continue\n",
    "            if (\"/\" + lastTag) == tag:\n",
    "                print(\"Tag %s matches top of stack:  stack is now %s\" % (tag, s))\n",
    "                continue\n",
    "            # if it does match, let the user know and abort\n",
    "            else:\n",
    "                print(\"Error:  tag is %s but top of stack is %s\" % (tag, lastTag))\n",
    "                endOfChecking(exceptions, validTags)\n",
    "                return\n",
    "    print()\n",
    "        \n",
    "    # once all tags have been itterated through, print out the results\n",
    "    \n",
    "    # if there are no tags left \n",
    "    if s.isEmpty():\n",
    "        print(\"Processing complete.  No mismatches found.\")\n",
    "    # if there were tags left\n",
    "    else:\n",
    "        print(\"Processing complete.  Unmatched tags remain on stack:  s\" % (s))\n",
    "        \n",
    "    # print the sorted exceptions and valid tags\n",
    "    endOfChecking(exceptions, validTags)"
   ]
  },
  {
   "cell_type": "code",
   "execution_count": 135,
   "metadata": {
    "collapsed": true
   },
   "outputs": [],
   "source": [
    "def endOfChecking(exceptions, validTags):\n",
    "    exceptions.sort()\n",
    "    validTags.sort()\n",
    "    print()\n",
    "    print(\"Exceptions:\")\n",
    "    print(\"    %s\" % (exceptions))\n",
    "    print()\n",
    "    print(\"Valid Tags Found:\")\n",
    "    print(\"    %s\" % (validTags))"
   ]
  },
  {
   "cell_type": "code",
   "execution_count": 137,
   "metadata": {
    "collapsed": false
   },
   "outputs": [
    {
     "ename": "SyntaxError",
     "evalue": "unexpected EOF while parsing (<ipython-input-137-abe979c54273>, line 23)",
     "output_type": "error",
     "traceback": [
      "\u001b[0;36m  File \u001b[0;32m\"<ipython-input-137-abe979c54273>\"\u001b[0;36m, line \u001b[0;32m23\u001b[0m\n\u001b[0;31m    \u001b[0m\n\u001b[0m    ^\u001b[0m\n\u001b[0;31mSyntaxError\u001b[0m\u001b[0;31m:\u001b[0m unexpected EOF while parsing\n"
     ]
    }
   ],
   "source": [
    "def main():\n",
    "    '''\n",
    "    Parse through an html file (in the form of a .txt file) and makes\n",
    "    sure all opening tags have closing tags if a closing tag is needed\n",
    "    '''\n",
    "    \n",
    "    # assuming that htmlfile.txt is the file we want to read\n",
    "    # open the file\n",
    "    inFile = open(\"htmlfile.txt\", \"r\")\n",
    "    # gather all of the tags from the file\n",
    "    tags = []\n",
    "    for line in inFile:\n",
    "        tags = tags + getTags(line)\n",
    "    # close the file\n",
    "    inFile.close()\n",
    "    # print(tags)\n",
    "    \n",
    "    # check if all of the tags have closing tags\n",
    "    checkTags(tags)\n",
    "    \n",
    "    \n",
    "if __name__ == \"__main__\":\n",
    "    main()"
   ]
  },
  {
   "cell_type": "code",
   "execution_count": 119,
   "metadata": {
    "collapsed": true
   },
   "outputs": [],
   "source": [
    "test = [\"b\", \"a\"]"
   ]
  },
  {
   "cell_type": "code",
   "execution_count": 120,
   "metadata": {
    "collapsed": false
   },
   "outputs": [
    {
     "data": {
      "text/plain": [
       "['b', 'a']"
      ]
     },
     "execution_count": 120,
     "metadata": {},
     "output_type": "execute_result"
    }
   ],
   "source": [
    "test"
   ]
  },
  {
   "cell_type": "code",
   "execution_count": 121,
   "metadata": {
    "collapsed": false
   },
   "outputs": [],
   "source": [
    "test.sort()"
   ]
  },
  {
   "cell_type": "code",
   "execution_count": 122,
   "metadata": {
    "collapsed": false
   },
   "outputs": [
    {
     "data": {
      "text/plain": [
       "['a', 'b']"
      ]
     },
     "execution_count": 122,
     "metadata": {},
     "output_type": "execute_result"
    }
   ],
   "source": [
    "test"
   ]
  },
  {
   "cell_type": "code",
   "execution_count": null,
   "metadata": {
    "collapsed": true
   },
   "outputs": [],
   "source": []
  }
 ],
 "metadata": {
  "anaconda-cloud": {},
  "kernelspec": {
   "display_name": "Python [Root]",
   "language": "python",
   "name": "Python [Root]"
  },
  "language_info": {
   "codemirror_mode": {
    "name": "ipython",
    "version": 3
   },
   "file_extension": ".py",
   "mimetype": "text/x-python",
   "name": "python",
   "nbconvert_exporter": "python",
   "pygments_lexer": "ipython3",
   "version": "3.5.2"
  }
 },
 "nbformat": 4,
 "nbformat_minor": 0
}
